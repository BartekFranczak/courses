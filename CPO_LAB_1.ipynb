{
  "nbformat": 4,
  "nbformat_minor": 0,
  "metadata": {
    "colab": {
      "provenance": [],
      "authorship_tag": "ABX9TyMSnxvX1qqP35GLm8YVRwn3",
      "include_colab_link": true
    },
    "kernelspec": {
      "name": "python3",
      "display_name": "Python 3"
    },
    "language_info": {
      "name": "python"
    }
  },
  "cells": [
    {
      "cell_type": "markdown",
      "metadata": {
        "id": "view-in-github",
        "colab_type": "text"
      },
      "source": [
        "<a href=\"https://colab.research.google.com/github/BartekFranczak/courses/blob/master/CPO_LAB_1.ipynb\" target=\"_parent\"><img src=\"https://colab.research.google.com/assets/colab-badge.svg\" alt=\"Open In Colab\"/></a>"
      ]
    },
    {
      "cell_type": "markdown",
      "source": [
        "\n",
        "\n",
        "LAB 1\n",
        "\n",
        "Laboratorium wprowadzające do Pythona \n"
      ],
      "metadata": {
        "id": "czBODk9cdb1D"
      }
    },
    {
      "cell_type": "markdown",
      "source": [
        "ZAD 1\n",
        "Napisz funkcję ’convert temp’, która przyjmuje jeden argument ’x’ reprezentujący temperaturę w stopniach Celsjusza.\n",
        "Funkcja powinna sprawdzić, czy x jest liczbą (całkowitą lub zmiennoprzecinkową). Jeśli x jest liczbą,\n",
        "funkcja powinna przekonwertować temperaturę na stopnie Fahrenheita i wypisać wynik (Uwaga: F = 1, 8∗C+32)."
      ],
      "metadata": {
        "id": "wTNbSKkRe87m"
      }
    },
    {
      "cell_type": "code",
      "source": [
        "def convert_temp(x):\n",
        "  if ((type(x) == int) or (type(x) == float)):\n",
        "    return 1.8*x + 32\n"
      ],
      "metadata": {
        "id": "Z9zB8RNOfUXG"
      },
      "execution_count": 8,
      "outputs": []
    },
    {
      "cell_type": "code",
      "source": [
        "x = 12.4\n",
        "print(x)\n",
        "print(convert_temp(x))"
      ],
      "metadata": {
        "colab": {
          "base_uri": "https://localhost:8080/"
        },
        "id": "kpWGlr18ga31",
        "outputId": "37a8f3c8-a4df-4fd9-f36b-a4e4b533581f"
      },
      "execution_count": 10,
      "outputs": [
        {
          "output_type": "stream",
          "name": "stdout",
          "text": [
            "12.4\n",
            "54.32\n"
          ]
        }
      ]
    },
    {
      "cell_type": "markdown",
      "source": [
        "ZAD 2. Napisz funkcję ’liczby pierwsze’, która przyjmuje jeden argument ’x’ reprezentujący liczbę całkowitą. Funkcja\n",
        "powinna znaleźć i wypisać wszystkie liczby pierwsze z zakresu od 1 do „x”. Funkcja powinna zwrócić listę\n",
        "wszystkich znalezionych liczb pierwszych."
      ],
      "metadata": {
        "id": "wvXHXpXNfDt6"
      }
    },
    {
      "cell_type": "code",
      "source": [
        "def liczby_pierwsze(x):\n",
        "  lp = []\n",
        "  \n",
        "  for i in range(1,x+1):\n",
        "    count = 0\n",
        "    for j in range(1,i+1):\n",
        "      if i%j == 0:\n",
        "        count +=1\n",
        "    if count ==2:\n",
        "      lp.append(i)\n",
        "  return lp\n"
      ],
      "metadata": {
        "id": "rBl3qLv4fUBj"
      },
      "execution_count": 38,
      "outputs": []
    },
    {
      "cell_type": "code",
      "source": [
        "print(liczby_pierwsze(30))"
      ],
      "metadata": {
        "colab": {
          "base_uri": "https://localhost:8080/"
        },
        "id": "4X0uyIlxlq4T",
        "outputId": "c5854435-7e67-4c26-c29d-6e0c9c3c3aa2"
      },
      "execution_count": 39,
      "outputs": [
        {
          "output_type": "stream",
          "name": "stdout",
          "text": [
            "[2, 3, 5, 7, 11, 13, 17, 19, 23, 29]\n"
          ]
        }
      ]
    },
    {
      "cell_type": "markdown",
      "source": [
        "ZAD 3. Zdefiniuj funkcję o nazwie ’usun duplikaty’, która ma jeden argument o nazwie „sekwencja” w postaci listy liczb\n",
        "całkowitych. Funkcja powinna wypisać, ile razy każdy unikalny numer występuje na liście w kolejności rosnącej\n",
        "z usuniętymi duplikatami."
      ],
      "metadata": {
        "id": "Svsk7fRGfDks"
      }
    },
    {
      "cell_type": "code",
      "source": [
        "from os import initgroups\n",
        "def usun_duplikaty(sekwencja):\n",
        "  set_sekwencja = list(set(sekwencja))\n",
        "  ile = []\n",
        "  for el1 in set_sekwencja:\n",
        "    count=0\n",
        "    for el2 in sekwencja:\n",
        "      if el1 == el2:\n",
        "        count+=1\n",
        "    ile.append(count)\n",
        "  for i in range(len(set_sekwencja)):\n",
        "    print(\"Liczba: {}; Ilosc: {}\".format(set_sekwencja[i],ile[i]))"
      ],
      "metadata": {
        "id": "yhqhzLZ-fTfK"
      },
      "execution_count": 51,
      "outputs": []
    },
    {
      "cell_type": "code",
      "source": [
        "usun_duplikaty([1,4,2,4,2,3,5,7,9,11,7,7,7])"
      ],
      "metadata": {
        "colab": {
          "base_uri": "https://localhost:8080/"
        },
        "id": "Gxx5z-D7rGzJ",
        "outputId": "4109e3f8-9196-4fee-e982-21c420ad81a1"
      },
      "execution_count": 52,
      "outputs": [
        {
          "output_type": "stream",
          "name": "stdout",
          "text": [
            "Liczba: 1; Ilosc: 1\n",
            "Liczba: 2; Ilosc: 2\n",
            "Liczba: 3; Ilosc: 1\n",
            "Liczba: 4; Ilosc: 2\n",
            "Liczba: 5; Ilosc: 1\n",
            "Liczba: 7; Ilosc: 4\n",
            "Liczba: 9; Ilosc: 1\n",
            "Liczba: 11; Ilosc: 1\n"
          ]
        }
      ]
    },
    {
      "cell_type": "markdown",
      "source": [
        "ZAD 4. Utwórz klasę ’Calculator’ i wykonaj następujące czynności:\n",
        "1. metoda init () powinna przyjmować argumenty x i y. Domyślne wartości zarówno x, jak i y to 0.\n",
        "2. Utwórz funkcję klasy ’Calculator’ o nazwie ”set”. Funkcja powinna przyjmować x i y jako argumenty i\n",
        "zmieniać wartości self.x i self.y.\n",
        "3. Utwórz funkcję klasy ’Calculator’ o nazwie ”get”. Funkcja nie ma argumentów i powinna zwracać wartości\n",
        "self.x oraz self.y.\n",
        "4. Utwórz metodę klasy ’Calculator’ o nazwie ”add”. Funkcja powinna zwrócić sumę self.x i self.y.\n",
        "5. twórz metodę klasy ’Calculator’ o nazwie ”multiply”. Funkcja powinna zwrócić wynik mnożenia self.x*self.y.\n",
        "6. Utwórz metodę klasy ’Calculator’ o nazwie ”divide”. Funkcja powinna zwrócić wynik podziału self.x/self.y.\n",
        "Jeśli wartość self.y wynosi 0, to funkcja powinna wypisać ”Błąd: dzielenie przez zero” i zwrócić None.\n"
      ],
      "metadata": {
        "id": "v4rHtKmXfDNt"
      }
    },
    {
      "cell_type": "code",
      "execution_count": 53,
      "metadata": {
        "id": "Asw8W4Zvdavx"
      },
      "outputs": [],
      "source": [
        "class Calculator:\n",
        "  def __init__(self, x=0, y=0):\n",
        "    self.x = x\n",
        "    self.y = y\n",
        "  def  get(self):\n",
        "    return [self.x, self.y]\n",
        "  def add(self):\n",
        "    return self.x + self.y\n",
        "  def multiply(self):\n",
        "    return self.x*self.y\n",
        "  def divide(self):\n",
        "    if (self.y == 0):\n",
        "      print(\"Błąd: dzielenie przez zero!\")\n",
        "      return None\n",
        "    else:\n",
        "      return self.x/self.y"
      ]
    },
    {
      "cell_type": "code",
      "source": [
        "c1 = Calculator()\n",
        "c2 = Calculator(1,2)\n",
        "print(c1.divide())\n",
        "print(c2.divide())"
      ],
      "metadata": {
        "colab": {
          "base_uri": "https://localhost:8080/"
        },
        "id": "ZIM6-LALw3NJ",
        "outputId": "b0a1a845-a568-4675-a837-ac217880390d"
      },
      "execution_count": 59,
      "outputs": [
        {
          "output_type": "stream",
          "name": "stdout",
          "text": [
            "Błąd: dzielenie przez zero!\n",
            "None\n",
            "0.5\n"
          ]
        }
      ]
    }
  ]
}